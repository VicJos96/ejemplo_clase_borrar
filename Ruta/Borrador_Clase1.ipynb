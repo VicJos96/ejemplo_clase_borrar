{
  "nbformat": 4,
  "nbformat_minor": 0,
  "metadata": {
    "colab": {
      "provenance": [],
      "authorship_tag": "ABX9TyNa1b0R7M+r1XjQF1637YAX",
      "include_colab_link": true
    },
    "kernelspec": {
      "name": "python3",
      "display_name": "Python 3"
    },
    "language_info": {
      "name": "python"
    },
    "accelerator": "GPU",
    "gpuClass": "standard"
  },
  "cells": [
    {
      "cell_type": "markdown",
      "metadata": {
        "id": "view-in-github",
        "colab_type": "text"
      },
      "source": [
        "<a href=\"https://colab.research.google.com/github/VicJos96/ejemplo_clase_borrar/blob/main/Ruta/Borrador_Clase1.ipynb\" target=\"_parent\"><img src=\"https://colab.research.google.com/assets/colab-badge.svg\" alt=\"Open In Colab\"/></a>"
      ]
    },
    {
      "cell_type": "markdown",
      "source": [
        "# Este es un titulo\n",
        "## Este es un titulo\n",
        "### Este es un titulo\n",
        "Este es un titulo\n",
        "<img src=\"\" alt=\"HTML5 Icon\" width=\"600\" height=\"350\" >*texto en cursiva*"
      ],
      "metadata": {
        "id": "OdVUbEJ6XvDY"
      }
    },
    {
      "cell_type": "code",
      "source": [
        "1+1"
      ],
      "metadata": {
        "id": "X09bEJVbXl3v"
      },
      "execution_count": null,
      "outputs": []
    }
  ]
}