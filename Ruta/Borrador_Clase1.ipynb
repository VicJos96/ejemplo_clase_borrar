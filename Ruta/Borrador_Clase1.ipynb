{
  "nbformat": 4,
  "nbformat_minor": 0,
  "metadata": {
    "colab": {
      "provenance": [],
      "authorship_tag": "ABX9TyM/Dh17JpSuuP5DSP+FMM2n",
      "include_colab_link": true
    },
    "kernelspec": {
      "name": "python3",
      "display_name": "Python 3"
    },
    "language_info": {
      "name": "python"
    },
    "accelerator": "GPU",
    "gpuClass": "standard"
  },
  "cells": [
    {
      "cell_type": "markdown",
      "metadata": {
        "id": "view-in-github",
        "colab_type": "text"
      },
      "source": [
        "<a href=\"https://colab.research.google.com/github/VicJos96/ejemplo_clase_borrar/blob/main/Ruta/Borrador_Clase1.ipynb\" target=\"_parent\"><img src=\"https://colab.research.google.com/assets/colab-badge.svg\" alt=\"Open In Colab\"/></a>"
      ]
    },
    {
      "cell_type": "markdown",
      "source": [
        "# Este es un titulo\n",
        "## Este es un titulo\n",
        "### Este es un titulo\n",
        "Este es un titulo\n",
        "\n",
        "\n",
        "\n",
        "<img src=\"https://images.unsplash.com/photo-1593288942460-e321b92a6cde?ixlib=rb-4.0.3&ixid=MnwxMjA3fDB8MHxleHBsb3JlLWZlZWR8MXx8fGVufDB8fHx8&w=1000&q=80\" alt=\"HTML5 Icon\" width=\"600\" height=\"350\" >"
      ],
      "metadata": {
        "id": "OdVUbEJ6XvDY"
      }
    },
    {
      "cell_type": "code",
      "source": [
        "1+1"
      ],
      "metadata": {
        "id": "X09bEJVbXl3v"
      },
      "execution_count": null,
      "outputs": []
    }
  ]
}